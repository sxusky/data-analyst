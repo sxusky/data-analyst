{
 "cells": [
  {
   "cell_type": "markdown",
   "metadata": {
    "collapsed": true,
    "deletable": true,
    "editable": true
   },
   "source": [
    "## 数据分析和可视化\n",
    "\n",
    "    在wrangle_act.ipynb中，我们已经处理了tweet_json.txt和twitter-archive-enhanced.csv的数据，且生成到twitter_archive_master.csv文件中。"
   ]
  },
  {
   "cell_type": "code",
   "execution_count": 8,
   "metadata": {
    "collapsed": false,
    "deletable": true,
    "editable": true
   },
   "outputs": [
    {
     "name": "stdout",
     "output_type": "stream",
     "text": [
      "<class 'pandas.core.frame.DataFrame'>\n",
      "RangeIndex: 1438 entries, 0 to 1437\n",
      "Data columns (total 14 columns):\n",
      "tweet_id              1438 non-null int64\n",
      "name                  1438 non-null object\n",
      "rating_numerator      1438 non-null int64\n",
      "rating_denominator    1438 non-null int64\n",
      "timestamp             1438 non-null object\n",
      "text                  1438 non-null object\n",
      "source_text           1438 non-null object\n",
      "expanded_urls_one     1398 non-null object\n",
      "doggo                 1438 non-null object\n",
      "floofer               1438 non-null object\n",
      "pupper                1438 non-null object\n",
      "puppo                 1438 non-null object\n",
      "retweet_count         890 non-null float64\n",
      "favorite_count        890 non-null float64\n",
      "dtypes: float64(2), int64(3), object(9)\n",
      "memory usage: 157.4+ KB\n"
     ]
    },
    {
     "data": {
      "text/html": [
       "<div>\n",
       "<style>\n",
       "    .dataframe thead tr:only-child th {\n",
       "        text-align: right;\n",
       "    }\n",
       "\n",
       "    .dataframe thead th {\n",
       "        text-align: left;\n",
       "    }\n",
       "\n",
       "    .dataframe tbody tr th {\n",
       "        vertical-align: top;\n",
       "    }\n",
       "</style>\n",
       "<table border=\"1\" class=\"dataframe\">\n",
       "  <thead>\n",
       "    <tr style=\"text-align: right;\">\n",
       "      <th></th>\n",
       "      <th>tweet_id</th>\n",
       "      <th>name</th>\n",
       "      <th>rating_numerator</th>\n",
       "      <th>rating_denominator</th>\n",
       "      <th>timestamp</th>\n",
       "      <th>text</th>\n",
       "      <th>source_text</th>\n",
       "      <th>expanded_urls_one</th>\n",
       "      <th>doggo</th>\n",
       "      <th>floofer</th>\n",
       "      <th>pupper</th>\n",
       "      <th>puppo</th>\n",
       "      <th>retweet_count</th>\n",
       "      <th>favorite_count</th>\n",
       "    </tr>\n",
       "  </thead>\n",
       "  <tbody>\n",
       "    <tr>\n",
       "      <th>0</th>\n",
       "      <td>892420643555336193</td>\n",
       "      <td>Phineas</td>\n",
       "      <td>13</td>\n",
       "      <td>10</td>\n",
       "      <td>2017-08-01 16:23:56</td>\n",
       "      <td>This is Phineas. He's a mystical boy. Only eve...</td>\n",
       "      <td>Twitter for iPhone</td>\n",
       "      <td>https://twitter.com/dog_rates/status/892420643...</td>\n",
       "      <td>None</td>\n",
       "      <td>None</td>\n",
       "      <td>None</td>\n",
       "      <td>None</td>\n",
       "      <td>NaN</td>\n",
       "      <td>NaN</td>\n",
       "    </tr>\n",
       "    <tr>\n",
       "      <th>1</th>\n",
       "      <td>892177421306343426</td>\n",
       "      <td>Tilly</td>\n",
       "      <td>13</td>\n",
       "      <td>10</td>\n",
       "      <td>2017-08-01 00:17:27</td>\n",
       "      <td>This is Tilly. She's just checking pup on you....</td>\n",
       "      <td>Twitter for iPhone</td>\n",
       "      <td>https://twitter.com/dog_rates/status/892177421...</td>\n",
       "      <td>None</td>\n",
       "      <td>None</td>\n",
       "      <td>None</td>\n",
       "      <td>None</td>\n",
       "      <td>NaN</td>\n",
       "      <td>NaN</td>\n",
       "    </tr>\n",
       "    <tr>\n",
       "      <th>2</th>\n",
       "      <td>891815181378084864</td>\n",
       "      <td>Archie</td>\n",
       "      <td>12</td>\n",
       "      <td>10</td>\n",
       "      <td>2017-07-31 00:18:03</td>\n",
       "      <td>This is Archie. He is a rare Norwegian Pouncin...</td>\n",
       "      <td>Twitter for iPhone</td>\n",
       "      <td>https://twitter.com/dog_rates/status/891815181...</td>\n",
       "      <td>None</td>\n",
       "      <td>None</td>\n",
       "      <td>None</td>\n",
       "      <td>None</td>\n",
       "      <td>4301.0</td>\n",
       "      <td>25445.0</td>\n",
       "    </tr>\n",
       "  </tbody>\n",
       "</table>\n",
       "</div>"
      ],
      "text/plain": [
       "             tweet_id     name  rating_numerator  rating_denominator  \\\n",
       "0  892420643555336193  Phineas                13                  10   \n",
       "1  892177421306343426    Tilly                13                  10   \n",
       "2  891815181378084864   Archie                12                  10   \n",
       "\n",
       "             timestamp                                               text  \\\n",
       "0  2017-08-01 16:23:56  This is Phineas. He's a mystical boy. Only eve...   \n",
       "1  2017-08-01 00:17:27  This is Tilly. She's just checking pup on you....   \n",
       "2  2017-07-31 00:18:03  This is Archie. He is a rare Norwegian Pouncin...   \n",
       "\n",
       "          source_text                                  expanded_urls_one  \\\n",
       "0  Twitter for iPhone  https://twitter.com/dog_rates/status/892420643...   \n",
       "1  Twitter for iPhone  https://twitter.com/dog_rates/status/892177421...   \n",
       "2  Twitter for iPhone  https://twitter.com/dog_rates/status/891815181...   \n",
       "\n",
       "  doggo floofer pupper puppo  retweet_count  favorite_count  \n",
       "0  None    None   None  None            NaN             NaN  \n",
       "1  None    None   None  None            NaN             NaN  \n",
       "2  None    None   None  None         4301.0         25445.0  "
      ]
     },
     "execution_count": 8,
     "metadata": {},
     "output_type": "execute_result"
    }
   ],
   "source": [
    "# -*- coding=utf-8 -*-\n",
    "%matplotlib inline\n",
    "import pandas as pd\n",
    "import matplotlib.pyplot as plt\n",
    "\n",
    "# 读取twitter_archive_master.csv\n",
    "twitter_archive_master = pd.read_csv(\"twitter_archive_master.csv\")\n",
    "twitter_archive_master.info()\n",
    "twitter_archive_master.head(3)"
   ]
  },
  {
   "cell_type": "code",
   "execution_count": 9,
   "metadata": {
    "collapsed": false
   },
   "outputs": [
    {
     "data": {
      "text/html": [
       "<div>\n",
       "<style>\n",
       "    .dataframe thead tr:only-child th {\n",
       "        text-align: right;\n",
       "    }\n",
       "\n",
       "    .dataframe thead th {\n",
       "        text-align: left;\n",
       "    }\n",
       "\n",
       "    .dataframe tbody tr th {\n",
       "        vertical-align: top;\n",
       "    }\n",
       "</style>\n",
       "<table border=\"1\" class=\"dataframe\">\n",
       "  <thead>\n",
       "    <tr style=\"text-align: right;\">\n",
       "      <th></th>\n",
       "      <th>tweet_id</th>\n",
       "      <th>rating_numerator</th>\n",
       "      <th>rating_denominator</th>\n",
       "      <th>retweet_count</th>\n",
       "      <th>favorite_count</th>\n",
       "    </tr>\n",
       "  </thead>\n",
       "  <tbody>\n",
       "    <tr>\n",
       "      <th>count</th>\n",
       "      <td>1.438000e+03</td>\n",
       "      <td>1438.000000</td>\n",
       "      <td>1438.0</td>\n",
       "      <td>890.000000</td>\n",
       "      <td>890.000000</td>\n",
       "    </tr>\n",
       "    <tr>\n",
       "      <th>mean</th>\n",
       "      <td>7.706092e+17</td>\n",
       "      <td>14.479833</td>\n",
       "      <td>10.0</td>\n",
       "      <td>4020.047191</td>\n",
       "      <td>10822.894382</td>\n",
       "    </tr>\n",
       "    <tr>\n",
       "      <th>std</th>\n",
       "      <td>6.864808e+16</td>\n",
       "      <td>52.108159</td>\n",
       "      <td>0.0</td>\n",
       "      <td>5617.016301</td>\n",
       "      <td>13021.128657</td>\n",
       "    </tr>\n",
       "    <tr>\n",
       "      <th>min</th>\n",
       "      <td>6.661022e+17</td>\n",
       "      <td>11.000000</td>\n",
       "      <td>10.0</td>\n",
       "      <td>2.000000</td>\n",
       "      <td>0.000000</td>\n",
       "    </tr>\n",
       "    <tr>\n",
       "      <th>25%</th>\n",
       "      <td>7.031264e+17</td>\n",
       "      <td>11.000000</td>\n",
       "      <td>10.0</td>\n",
       "      <td>1028.500000</td>\n",
       "      <td>2381.000000</td>\n",
       "    </tr>\n",
       "    <tr>\n",
       "      <th>50%</th>\n",
       "      <td>7.774056e+17</td>\n",
       "      <td>12.000000</td>\n",
       "      <td>10.0</td>\n",
       "      <td>2304.000000</td>\n",
       "      <td>6398.500000</td>\n",
       "    </tr>\n",
       "    <tr>\n",
       "      <th>75%</th>\n",
       "      <td>8.283699e+17</td>\n",
       "      <td>13.000000</td>\n",
       "      <td>10.0</td>\n",
       "      <td>4899.500000</td>\n",
       "      <td>14694.500000</td>\n",
       "    </tr>\n",
       "    <tr>\n",
       "      <th>max</th>\n",
       "      <td>8.924206e+17</td>\n",
       "      <td>1776.000000</td>\n",
       "      <td>10.0</td>\n",
       "      <td>56373.000000</td>\n",
       "      <td>106634.000000</td>\n",
       "    </tr>\n",
       "  </tbody>\n",
       "</table>\n",
       "</div>"
      ],
      "text/plain": [
       "           tweet_id  rating_numerator  rating_denominator  retweet_count  \\\n",
       "count  1.438000e+03       1438.000000              1438.0     890.000000   \n",
       "mean   7.706092e+17         14.479833                10.0    4020.047191   \n",
       "std    6.864808e+16         52.108159                 0.0    5617.016301   \n",
       "min    6.661022e+17         11.000000                10.0       2.000000   \n",
       "25%    7.031264e+17         11.000000                10.0    1028.500000   \n",
       "50%    7.774056e+17         12.000000                10.0    2304.000000   \n",
       "75%    8.283699e+17         13.000000                10.0    4899.500000   \n",
       "max    8.924206e+17       1776.000000                10.0   56373.000000   \n",
       "\n",
       "       favorite_count  \n",
       "count      890.000000  \n",
       "mean     10822.894382  \n",
       "std      13021.128657  \n",
       "min          0.000000  \n",
       "25%       2381.000000  \n",
       "50%       6398.500000  \n",
       "75%      14694.500000  \n",
       "max     106634.000000  "
      ]
     },
     "execution_count": 9,
     "metadata": {},
     "output_type": "execute_result"
    }
   ],
   "source": [
    "twitter_archive_master.describe()"
   ]
  },
  {
   "cell_type": "markdown",
   "metadata": {},
   "source": [
    "#### 通过上面的describe()可以得知，retweet_count的最大值是56373，favorite_count的最大值是106634，平均分值约为14.48。它们是哪些小狗的推文产生的呢？"
   ]
  },
  {
   "cell_type": "code",
   "execution_count": 46,
   "metadata": {
    "collapsed": false
   },
   "outputs": [
    {
     "data": {
      "text/html": [
       "<div>\n",
       "<style>\n",
       "    .dataframe thead tr:only-child th {\n",
       "        text-align: right;\n",
       "    }\n",
       "\n",
       "    .dataframe thead th {\n",
       "        text-align: left;\n",
       "    }\n",
       "\n",
       "    .dataframe tbody tr th {\n",
       "        vertical-align: top;\n",
       "    }\n",
       "</style>\n",
       "<table border=\"1\" class=\"dataframe\">\n",
       "  <thead>\n",
       "    <tr style=\"text-align: right;\">\n",
       "      <th></th>\n",
       "      <th>tweet_id</th>\n",
       "      <th>name</th>\n",
       "      <th>rating_numerator</th>\n",
       "      <th>rating_denominator</th>\n",
       "      <th>timestamp</th>\n",
       "      <th>text</th>\n",
       "      <th>source_text</th>\n",
       "      <th>expanded_urls_one</th>\n",
       "      <th>doggo</th>\n",
       "      <th>floofer</th>\n",
       "      <th>pupper</th>\n",
       "      <th>puppo</th>\n",
       "      <th>retweet_count</th>\n",
       "      <th>favorite_count</th>\n",
       "    </tr>\n",
       "  </thead>\n",
       "  <tbody>\n",
       "    <tr>\n",
       "      <th>254</th>\n",
       "      <td>842892208864923648</td>\n",
       "      <td>Stephan</td>\n",
       "      <td>13</td>\n",
       "      <td>10</td>\n",
       "      <td>2017-03-18 00:15:37</td>\n",
       "      <td>RT @dog_rates: This is Stephan. He just wants ...</td>\n",
       "      <td>Twitter for iPhone</td>\n",
       "      <td>https://twitter.com/dog_rates/status/807106840...</td>\n",
       "      <td>None</td>\n",
       "      <td>None</td>\n",
       "      <td>None</td>\n",
       "      <td>None</td>\n",
       "      <td>56373.0</td>\n",
       "      <td>0.0</td>\n",
       "    </tr>\n",
       "    <tr>\n",
       "      <th>508</th>\n",
       "      <td>807106840509214720</td>\n",
       "      <td>Stephan</td>\n",
       "      <td>13</td>\n",
       "      <td>10</td>\n",
       "      <td>2016-12-09 06:17:20</td>\n",
       "      <td>This is Stephan. He just wants to help. 13/10 ...</td>\n",
       "      <td>Twitter for iPhone</td>\n",
       "      <td>https://twitter.com/dog_rates/status/807106840...</td>\n",
       "      <td>None</td>\n",
       "      <td>None</td>\n",
       "      <td>None</td>\n",
       "      <td>None</td>\n",
       "      <td>56373.0</td>\n",
       "      <td>106634.0</td>\n",
       "    </tr>\n",
       "  </tbody>\n",
       "</table>\n",
       "</div>"
      ],
      "text/plain": [
       "               tweet_id     name  rating_numerator  rating_denominator  \\\n",
       "254  842892208864923648  Stephan                13                  10   \n",
       "508  807106840509214720  Stephan                13                  10   \n",
       "\n",
       "               timestamp                                               text  \\\n",
       "254  2017-03-18 00:15:37  RT @dog_rates: This is Stephan. He just wants ...   \n",
       "508  2016-12-09 06:17:20  This is Stephan. He just wants to help. 13/10 ...   \n",
       "\n",
       "            source_text                                  expanded_urls_one  \\\n",
       "254  Twitter for iPhone  https://twitter.com/dog_rates/status/807106840...   \n",
       "508  Twitter for iPhone  https://twitter.com/dog_rates/status/807106840...   \n",
       "\n",
       "    doggo floofer pupper puppo  retweet_count  favorite_count  \n",
       "254  None    None   None  None        56373.0             0.0  \n",
       "508  None    None   None  None        56373.0        106634.0  "
      ]
     },
     "execution_count": 46,
     "metadata": {},
     "output_type": "execute_result"
    }
   ],
   "source": [
    "twitter_archive_master[twitter_archive_master.retweet_count==56373]"
   ]
  },
  {
   "cell_type": "code",
   "execution_count": 11,
   "metadata": {
    "collapsed": false
   },
   "outputs": [
    {
     "data": {
      "text/html": [
       "<div>\n",
       "<style>\n",
       "    .dataframe thead tr:only-child th {\n",
       "        text-align: right;\n",
       "    }\n",
       "\n",
       "    .dataframe thead th {\n",
       "        text-align: left;\n",
       "    }\n",
       "\n",
       "    .dataframe tbody tr th {\n",
       "        vertical-align: top;\n",
       "    }\n",
       "</style>\n",
       "<table border=\"1\" class=\"dataframe\">\n",
       "  <thead>\n",
       "    <tr style=\"text-align: right;\">\n",
       "      <th></th>\n",
       "      <th>tweet_id</th>\n",
       "      <th>name</th>\n",
       "      <th>rating_numerator</th>\n",
       "      <th>rating_denominator</th>\n",
       "      <th>timestamp</th>\n",
       "      <th>text</th>\n",
       "      <th>source_text</th>\n",
       "      <th>expanded_urls_one</th>\n",
       "      <th>doggo</th>\n",
       "      <th>floofer</th>\n",
       "      <th>pupper</th>\n",
       "      <th>puppo</th>\n",
       "      <th>retweet_count</th>\n",
       "      <th>favorite_count</th>\n",
       "    </tr>\n",
       "  </thead>\n",
       "  <tbody>\n",
       "    <tr>\n",
       "      <th>508</th>\n",
       "      <td>807106840509214720</td>\n",
       "      <td>Stephan</td>\n",
       "      <td>13</td>\n",
       "      <td>10</td>\n",
       "      <td>2016-12-09 06:17:20</td>\n",
       "      <td>This is Stephan. He just wants to help. 13/10 ...</td>\n",
       "      <td>Twitter for iPhone</td>\n",
       "      <td>https://twitter.com/dog_rates/status/807106840...</td>\n",
       "      <td>None</td>\n",
       "      <td>None</td>\n",
       "      <td>None</td>\n",
       "      <td>None</td>\n",
       "      <td>56373.0</td>\n",
       "      <td>106634.0</td>\n",
       "    </tr>\n",
       "  </tbody>\n",
       "</table>\n",
       "</div>"
      ],
      "text/plain": [
       "               tweet_id     name  rating_numerator  rating_denominator  \\\n",
       "508  807106840509214720  Stephan                13                  10   \n",
       "\n",
       "               timestamp                                               text  \\\n",
       "508  2016-12-09 06:17:20  This is Stephan. He just wants to help. 13/10 ...   \n",
       "\n",
       "            source_text                                  expanded_urls_one  \\\n",
       "508  Twitter for iPhone  https://twitter.com/dog_rates/status/807106840...   \n",
       "\n",
       "    doggo floofer pupper puppo  retweet_count  favorite_count  \n",
       "508  None    None   None  None        56373.0        106634.0  "
      ]
     },
     "execution_count": 11,
     "metadata": {},
     "output_type": "execute_result"
    }
   ],
   "source": [
    "twitter_archive_master[twitter_archive_master.favorite_count==106634]"
   ]
  },
  {
   "cell_type": "markdown",
   "metadata": {},
   "source": [
    "可以推测这个创造最大的转发量、收藏量的小狗Stephan，很可能是同一条小狗，可以通过expanded_urls_one确认下。"
   ]
  },
  {
   "cell_type": "markdown",
   "metadata": {},
   "source": [
    "#### 这些推文，通过什么渠道发出的？我们通过source_text来分析下："
   ]
  },
  {
   "cell_type": "code",
   "execution_count": 26,
   "metadata": {
    "collapsed": false
   },
   "outputs": [
    {
     "data": {
      "text/plain": [
       "Twitter for iPhone     1342\n",
       "Vine - Make a Scene      71\n",
       "Twitter Web Client       17\n",
       "TweetDeck                 8\n",
       "Name: source_text, dtype: int64"
      ]
     },
     "execution_count": 26,
     "metadata": {},
     "output_type": "execute_result"
    }
   ],
   "source": [
    "twitter_archive_master.source_text.value_counts()"
   ]
  },
  {
   "cell_type": "code",
   "execution_count": 28,
   "metadata": {
    "collapsed": false
   },
   "outputs": [
    {
     "data": {
      "text/plain": [
       "([<matplotlib.patches.Wedge at 0xb7be860>,\n",
       "  <matplotlib.patches.Wedge at 0xbecf710>,\n",
       "  <matplotlib.patches.Wedge at 0xb555978>,\n",
       "  <matplotlib.patches.Wedge at 0xb069828>],\n",
       " [<matplotlib.text.Text at 0xbecf9b0>,\n",
       "  <matplotlib.text.Text at 0xbecfcf8>,\n",
       "  <matplotlib.text.Text at 0xb555e80>,\n",
       "  <matplotlib.text.Text at 0xb069630>])"
      ]
     },
     "execution_count": 28,
     "metadata": {},
     "output_type": "execute_result"
    },
    {
     "data": {
      "image/png": "[encoded data removed]",
      "text/plain": [
       "<matplotlib.figure.Figure at 0xb7dae80>"
      ]
     },
     "metadata": {},
     "output_type": "display_data"
    }
   ],
   "source": [
    "# 画图\n",
    "plt.pie(by_source, labels=['Twitter for iPhone', 'Vine - Make a Scene', 'Twitter Web Client', 'TweetDeck'])"
   ]
  },
  {
   "cell_type": "markdown",
   "metadata": {},
   "source": [
    "可以得知Twitter for iPhone渠道的推特数据是最多的。"
   ]
  },
  {
   "cell_type": "markdown",
   "metadata": {},
   "source": [
    "#### 小狗的历史最高分值排名是怎么样的？（这里用name值来区别小狗）"
   ]
  },
  {
   "cell_type": "code",
   "execution_count": 42,
   "metadata": {
    "collapsed": false
   },
   "outputs": [
    {
     "data": {
      "text/plain": [
       "name\n",
       "Atticus    1776\n",
       "Logan        75\n",
       "Sophie       27\n",
       "Smiley       14\n",
       "a            14\n",
       "Kuyu         14\n",
       "Cermet       14\n",
       "Iggy         14\n",
       "Doobert      14\n",
       "Name: rating_numerator, dtype: int64"
      ]
     },
     "execution_count": 42,
     "metadata": {},
     "output_type": "execute_result"
    }
   ],
   "source": [
    "# 按照name分组后，求 rating_numerator 的最大值\n",
    "names = twitter_archive_master.groupby(['name'])['rating_numerator'].max()\n",
    "names['None']=0\n",
    "names.sort_values(ascending=False)[:9]"
   ]
  },
  {
   "cell_type": "markdown",
   "metadata": {},
   "source": [
    "通过上面的结果得知(None没有名字的忽略)，分值排前3的狗分别是Atticus(1776/10)、Logan(75/10)、Sophie(27/10)"
   ]
  }
 ],
 "metadata": {
  "kernelspec": {
   "display_name": "Python 2",
   "language": "python",
   "name": "python2"
  },
  "language_info": {
   "codemirror_mode": {
    "name": "ipython",
    "version": 2
   },
   "file_extension": ".py",
   "mimetype": "text/x-python",
   "name": "python",
   "nbconvert_exporter": "python",
   "pygments_lexer": "ipython2",
   "version": "2.7.13"
  }
 },
 "nbformat": 4,
 "nbformat_minor": 2
}
