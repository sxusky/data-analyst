{
 "cells": [
  {
   "cell_type": "markdown",
   "metadata": {},
   "source": [
    "# 项目导图\n",
    "你在这个项目中的任务如下：\n",
    "\n",
    "### 清洗数据包括：\n",
    "- 收集数据\n",
    "- 评估数据\n",
    "- 清洗数据\n",
    "### 对清洗过的数据进行储存、分析和可视化\n",
    "### 汇报 1) 你的数据清洗过程 和 2) 你的数据分析和可视化\n",
    "\n",
    "项目提交\n",
    "在这一项目中，你将收集、评估和清理数据，然后通过分析、可视化和/或建模来处理数据。\n",
    "\n",
    "在你提交前:\n",
    "\n",
    "- 1 确保你符合审阅标准中所有条目的规范要求。只有符合所有规范要求，你的项目才能“符合审阅标准”。\n",
    "- 2 确保你在你的项目文件中没有包含你的API密钥和访问令牌。\n",
    "- 3 如果你在项目工作区中完成项目，请确保工作区中包含以下文件，然后单击项目工作区页面右下角的“提交项目”：\n",
    "\n",
    "    - wrangle_act.ipynb：用于收集、评估、清理、分析和可视化数据代码\n",
    "    - wrangle_report.pdf：数据整理步骤的文档：收集，评估和清理\n",
    "    - act_report.pdf：观察并分析最终数据的文档\n",
    "    - twitter_archive_enhanced.csv：给定的文件\n",
    "    - ==image_predictions.tsv：以编程方式下载的文件\n",
    "    - tweet_json.txt：通过API构建的文件\n",
    "    - twitter_archive_master.csv：合并和清理数据\n",
    "    - 任何附加文件（例如，用于存储干净数据的附加文件或数据库文件）\n",
    "- 4 如果你并没有在优达学城教室里在线完成了项目，而是在教室外完成，请将上面列出的文件打包成zip 压缩文件或从GitHub仓库中推出，然后单击此页面上的“提交项目”按钮。"
   ]
  },
  {
   "cell_type": "markdown",
   "metadata": {},
   "source": [
    "## 收集数据\n",
    "- 从github仓库[https://github.com/udacity/new-dand-advanced-china](https://github.com/udacity/new-dand-advanced-china)中下载文件"
   ]
  },
  {
   "cell_type": "code",
   "execution_count": 7,
   "metadata": {
    "collapsed": false
   },
   "outputs": [],
   "source": [
    "# -*- coding=utf-8 -*-\n",
    "import requests\n",
    "\n",
    "def download(url):\n",
    "    with open(url.split('/')[-1], mode=\"wb\") as f:\n",
    "        respone = requests.get(url)\n",
    "        f.write(respone.content)\n",
    "        \n",
    "# 下载 image-predictions.tsv\n",
    "image_prediction_url = \"https://raw.githubusercontent.com/udacity/new-dand-advanced-china/master/%E6%95%B0%E6%8D%AE%E6%B8%85%E6%B4%97/WeRateDogs%E9%A1%B9%E7%9B%AE/image-predictions.tsv\"\n",
    "download(image_prediction_url)\n",
    "# 下载 twitter_archive_enhanced.csv\n",
    "twitter_archive_enhanced_url = \"https://raw.githubusercontent.com/udacity/new-dand-advanced-china/master/%E6%95%B0%E6%8D%AE%E6%B8%85%E6%B4%97/WeRateDogs%E9%A1%B9%E7%9B%AE/twitter-archive-enhanced.csv\"\n",
    "download(twitter_archive_enhanced_url)\n",
    "# 下载 tweet_json.txt\n",
    "tweet_json_url = \"https://raw.githubusercontent.com/udacity/new-dand-advanced-china/master/%E6%95%B0%E6%8D%AE%E6%B8%85%E6%B4%97/WeRateDogs%E9%A1%B9%E7%9B%AE/tweet_json.txt\"\n",
    "download(tweet_json_url)"
   ]
  },
  {
   "cell_type": "code",
   "execution_count": 13,
   "metadata": {
    "collapsed": false
   },
   "outputs": [],
   "source": [
    "# 使用pandas读取数据文件\n",
    "import pandas as pd"
   ]
  },
  {
   "cell_type": "code",
   "execution_count": 16,
   "metadata": {
    "collapsed": false
   },
   "outputs": [
    {
     "data": {
      "text/html": [
       "<div>\n",
       "<table border=\"1\" class=\"dataframe\">\n",
       "  <thead>\n",
       "    <tr style=\"text-align: right;\">\n",
       "      <th></th>\n",
       "      <th>tweet_id</th>\n",
       "      <th>jpg_url</th>\n",
       "      <th>img_num</th>\n",
       "      <th>p1</th>\n",
       "      <th>p1_conf</th>\n",
       "      <th>p1_dog</th>\n",
       "      <th>p2</th>\n",
       "      <th>p2_conf</th>\n",
       "      <th>p2_dog</th>\n",
       "      <th>p3</th>\n",
       "      <th>p3_conf</th>\n",
       "      <th>p3_dog</th>\n",
       "    </tr>\n",
       "  </thead>\n",
       "  <tbody>\n",
       "    <tr>\n",
       "      <th>0</th>\n",
       "      <td>666020888022790149</td>\n",
       "      <td>https://pbs.twimg.com/media/CT4udn0WwAA0aMy.jpg</td>\n",
       "      <td>1</td>\n",
       "      <td>Welsh_springer_spaniel</td>\n",
       "      <td>0.465074</td>\n",
       "      <td>True</td>\n",
       "      <td>collie</td>\n",
       "      <td>0.156665</td>\n",
       "      <td>True</td>\n",
       "      <td>Shetland_sheepdog</td>\n",
       "      <td>0.061428</td>\n",
       "      <td>True</td>\n",
       "    </tr>\n",
       "    <tr>\n",
       "      <th>1</th>\n",
       "      <td>666029285002620928</td>\n",
       "      <td>https://pbs.twimg.com/media/CT42GRgUYAA5iDo.jpg</td>\n",
       "      <td>1</td>\n",
       "      <td>redbone</td>\n",
       "      <td>0.506826</td>\n",
       "      <td>True</td>\n",
       "      <td>miniature_pinscher</td>\n",
       "      <td>0.074192</td>\n",
       "      <td>True</td>\n",
       "      <td>Rhodesian_ridgeback</td>\n",
       "      <td>0.072010</td>\n",
       "      <td>True</td>\n",
       "    </tr>\n",
       "    <tr>\n",
       "      <th>2</th>\n",
       "      <td>666033412701032449</td>\n",
       "      <td>https://pbs.twimg.com/media/CT4521TWwAEvMyu.jpg</td>\n",
       "      <td>1</td>\n",
       "      <td>German_shepherd</td>\n",
       "      <td>0.596461</td>\n",
       "      <td>True</td>\n",
       "      <td>malinois</td>\n",
       "      <td>0.138584</td>\n",
       "      <td>True</td>\n",
       "      <td>bloodhound</td>\n",
       "      <td>0.116197</td>\n",
       "      <td>True</td>\n",
       "    </tr>\n",
       "  </tbody>\n",
       "</table>\n",
       "</div>"
      ],
      "text/plain": [
       "             tweet_id                                          jpg_url  \\\n",
       "0  666020888022790149  https://pbs.twimg.com/media/CT4udn0WwAA0aMy.jpg   \n",
       "1  666029285002620928  https://pbs.twimg.com/media/CT42GRgUYAA5iDo.jpg   \n",
       "2  666033412701032449  https://pbs.twimg.com/media/CT4521TWwAEvMyu.jpg   \n",
       "\n",
       "   img_num                      p1   p1_conf p1_dog                  p2  \\\n",
       "0        1  Welsh_springer_spaniel  0.465074   True              collie   \n",
       "1        1                 redbone  0.506826   True  miniature_pinscher   \n",
       "2        1         German_shepherd  0.596461   True            malinois   \n",
       "\n",
       "    p2_conf p2_dog                   p3   p3_conf p3_dog  \n",
       "0  0.156665   True    Shetland_sheepdog  0.061428   True  \n",
       "1  0.074192   True  Rhodesian_ridgeback  0.072010   True  \n",
       "2  0.138584   True           bloodhound  0.116197   True  "
      ]
     },
     "execution_count": 16,
     "metadata": {},
     "output_type": "execute_result"
    }
   ],
   "source": [
    "image_predictions = pd.read_csv(\"image-predictions.tsv\", sep='\\t')\n",
    "image_predictions.head(3)"
   ]
  },
  {
   "cell_type": "code",
   "execution_count": 17,
   "metadata": {
    "collapsed": false,
    "scrolled": false
   },
   "outputs": [
    {
     "data": {
      "text/html": [
       "<div>\n",
       "<table border=\"1\" class=\"dataframe\">\n",
       "  <thead>\n",
       "    <tr style=\"text-align: right;\">\n",
       "      <th></th>\n",
       "      <th>tweet_id</th>\n",
       "      <th>in_reply_to_status_id</th>\n",
       "      <th>in_reply_to_user_id</th>\n",
       "      <th>timestamp</th>\n",
       "      <th>source</th>\n",
       "      <th>text</th>\n",
       "      <th>retweeted_status_id</th>\n",
       "      <th>retweeted_status_user_id</th>\n",
       "      <th>retweeted_status_timestamp</th>\n",
       "      <th>expanded_urls</th>\n",
       "      <th>rating_numerator</th>\n",
       "      <th>rating_denominator</th>\n",
       "      <th>name</th>\n",
       "      <th>doggo</th>\n",
       "      <th>floofer</th>\n",
       "      <th>pupper</th>\n",
       "      <th>puppo</th>\n",
       "    </tr>\n",
       "  </thead>\n",
       "  <tbody>\n",
       "    <tr>\n",
       "      <th>0</th>\n",
       "      <td>892420643555336193</td>\n",
       "      <td>NaN</td>\n",
       "      <td>NaN</td>\n",
       "      <td>2017-08-01 16:23:56 +0000</td>\n",
       "      <td>&lt;a href=\"http://twitter.com/download/iphone\" r...</td>\n",
       "      <td>This is Phineas. He's a mystical boy. Only eve...</td>\n",
       "      <td>NaN</td>\n",
       "      <td>NaN</td>\n",
       "      <td>NaN</td>\n",
       "      <td>https://twitter.com/dog_rates/status/892420643...</td>\n",
       "      <td>13</td>\n",
       "      <td>10</td>\n",
       "      <td>Phineas</td>\n",
       "      <td>None</td>\n",
       "      <td>None</td>\n",
       "      <td>None</td>\n",
       "      <td>None</td>\n",
       "    </tr>\n",
       "    <tr>\n",
       "      <th>1</th>\n",
       "      <td>892177421306343426</td>\n",
       "      <td>NaN</td>\n",
       "      <td>NaN</td>\n",
       "      <td>2017-08-01 00:17:27 +0000</td>\n",
       "      <td>&lt;a href=\"http://twitter.com/download/iphone\" r...</td>\n",
       "      <td>This is Tilly. She's just checking pup on you....</td>\n",
       "      <td>NaN</td>\n",
       "      <td>NaN</td>\n",
       "      <td>NaN</td>\n",
       "      <td>https://twitter.com/dog_rates/status/892177421...</td>\n",
       "      <td>13</td>\n",
       "      <td>10</td>\n",
       "      <td>Tilly</td>\n",
       "      <td>None</td>\n",
       "      <td>None</td>\n",
       "      <td>None</td>\n",
       "      <td>None</td>\n",
       "    </tr>\n",
       "    <tr>\n",
       "      <th>2</th>\n",
       "      <td>891815181378084864</td>\n",
       "      <td>NaN</td>\n",
       "      <td>NaN</td>\n",
       "      <td>2017-07-31 00:18:03 +0000</td>\n",
       "      <td>&lt;a href=\"http://twitter.com/download/iphone\" r...</td>\n",
       "      <td>This is Archie. He is a rare Norwegian Pouncin...</td>\n",
       "      <td>NaN</td>\n",
       "      <td>NaN</td>\n",
       "      <td>NaN</td>\n",
       "      <td>https://twitter.com/dog_rates/status/891815181...</td>\n",
       "      <td>12</td>\n",
       "      <td>10</td>\n",
       "      <td>Archie</td>\n",
       "      <td>None</td>\n",
       "      <td>None</td>\n",
       "      <td>None</td>\n",
       "      <td>None</td>\n",
       "    </tr>\n",
       "  </tbody>\n",
       "</table>\n",
       "</div>"
      ],
      "text/plain": [
       "             tweet_id  in_reply_to_status_id  in_reply_to_user_id  \\\n",
       "0  892420643555336193                    NaN                  NaN   \n",
       "1  892177421306343426                    NaN                  NaN   \n",
       "2  891815181378084864                    NaN                  NaN   \n",
       "\n",
       "                   timestamp  \\\n",
       "0  2017-08-01 16:23:56 +0000   \n",
       "1  2017-08-01 00:17:27 +0000   \n",
       "2  2017-07-31 00:18:03 +0000   \n",
       "\n",
       "                                              source  \\\n",
       "0  <a href=\"http://twitter.com/download/iphone\" r...   \n",
       "1  <a href=\"http://twitter.com/download/iphone\" r...   \n",
       "2  <a href=\"http://twitter.com/download/iphone\" r...   \n",
       "\n",
       "                                                text  retweeted_status_id  \\\n",
       "0  This is Phineas. He's a mystical boy. Only eve...                  NaN   \n",
       "1  This is Tilly. She's just checking pup on you....                  NaN   \n",
       "2  This is Archie. He is a rare Norwegian Pouncin...                  NaN   \n",
       "\n",
       "   retweeted_status_user_id retweeted_status_timestamp  \\\n",
       "0                       NaN                        NaN   \n",
       "1                       NaN                        NaN   \n",
       "2                       NaN                        NaN   \n",
       "\n",
       "                                       expanded_urls  rating_numerator  \\\n",
       "0  https://twitter.com/dog_rates/status/892420643...                13   \n",
       "1  https://twitter.com/dog_rates/status/892177421...                13   \n",
       "2  https://twitter.com/dog_rates/status/891815181...                12   \n",
       "\n",
       "   rating_denominator     name doggo floofer pupper puppo  \n",
       "0                  10  Phineas  None    None   None  None  \n",
       "1                  10    Tilly  None    None   None  None  \n",
       "2                  10   Archie  None    None   None  None  "
      ]
     },
     "execution_count": 17,
     "metadata": {},
     "output_type": "execute_result"
    }
   ],
   "source": [
    "witter_archive_enhanced = pd.read_csv(\"twitter-archive-enhanced.csv\")\n",
    "witter_archive_enhanced.head(3)"
   ]
  },
  {
   "cell_type": "code",
   "execution_count": 26,
   "metadata": {
    "collapsed": false
   },
   "outputs": [
    {
     "name": "stdout",
     "output_type": "stream",
     "text": [
      "\"{\\\"created_at\\\": \\\"Tue Aug 01 16:23:56 +0000 2017\\\", \\\"id\\\": 892420643555336193, \\\"id_str\\\": \\\"892420643555336193\\\", \\\"full_text\\\": \\\"This is Phineas. He's a mystical boy. Only ever appears in the hole of a donut. 13/10 https://t.co/MgUWQ76dJU\\\", \\\"truncated\\\": false, \\\"display_text_range\\\": [0, 85], \\\"entities\\\": {\\\"hashtags\\\": [], \\\"symbols\\\": [], \\\"user_mentions\\\": [], \\\"urls\\\": [], \\\"media\\\": [{\\\"id\\\": 892420639486877696, \\\"id_str\\\": \\\"892420639486877696\\\", \\\"indices\\\": [86, 109], \\\"media_url\\\": \\\"http://pbs.twimg.com/media/DGKD1-bXoAAIAUK.jpg\\\", \\\"media_url_https\\\": \\\"https://pbs.twimg.com/media/DGKD1-bXoAAIAUK.jpg\\\", \\\"url\\\": \\\"https://t.co/MgUWQ76dJU\\\", \\\"display_url\\\": \\\"pic.twitter.com/MgUWQ76dJU\\\", \\\"expanded_url\\\": \\\"https://twitter.com/dog_rates/status/892420643555336193/photo/1\\\", \\\"type\\\": \\\"photo\\\", \\\"sizes\\\": {\\\"large\\\": {\\\"w\\\": 540, \\\"h\\\": 528, \\\"resize\\\": \\\"fit\\\"}, \\\"thumb\\\": {\\\"w\\\": 150, \\\"h\\\": 150, \\\"resize\\\": \\\"crop\\\"}, \\\"small\\\": {\\\"w\\\": 540, \\\"h\\\": 528, \\\"resize\\\": \\\"fit\\\"}, \\\"medium\\\": {\\\"w\\\": 540, \\\"h\\\": 528, \\\"resize\\\": \\\"fit\\\"}}}]}, \\\"extended_entities\\\": {\\\"media\\\": [{\\\"id\\\": 892420639486877696, \\\"id_str\\\": \\\"892420639486877696\\\", \\\"indices\\\": [86, 109], \\\"media_url\\\": \\\"http://pbs.twimg.com/media/DGKD1-bXoAAIAUK.jpg\\\", \\\"media_url_https\\\": \\\"https://pbs.twimg.com/media/DGKD1-bXoAAIAUK.jpg\\\", \\\"url\\\": \\\"https://t.co/MgUWQ76dJU\\\", \\\"display_url\\\": \\\"pic.twitter.com/MgUWQ76dJU\\\", \\\"expanded_url\\\": \\\"https://twitter.com/dog_rates/status/892420643555336193/photo/1\\\", \\\"type\\\": \\\"photo\\\", \\\"sizes\\\": {\\\"large\\\": {\\\"w\\\": 540, \\\"h\\\": 528, \\\"resize\\\": \\\"fit\\\"}, \\\"thumb\\\": {\\\"w\\\": 150, \\\"h\\\": 150, \\\"resize\\\": \\\"crop\\\"}, \\\"small\\\": {\\\"w\\\": 540, \\\"h\\\": 528, \\\"resize\\\": \\\"fit\\\"}, \\\"medium\\\": {\\\"w\\\": 540, \\\"h\\\": 528, \\\"resize\\\": \\\"fit\\\"}}}]}, \\\"source\\\": \\\"<a href=\\\\\\\"http://twitter.com/download/iphone\\\\\\\" rel=\\\\\\\"nofollow\\\\\\\">Twitter for iPhone</a>\\\", \\\"in_reply_to_status_id\\\": null, \\\"in_reply_to_status_id_str\\\": null, \\\"in_reply_to_user_id\\\": null, \\\"in_reply_to_user_id_str\\\": null, \\\"in_reply_to_screen_name\\\": null, \\\"user\\\": {\\\"id\\\": 4196983835, \\\"id_str\\\": \\\"4196983835\\\", \\\"name\\\": \\\"SpookyWeRateDogs\\\\u2122\\\", \\\"screen_name\\\": \\\"dog_rates\\\", \\\"location\\\": \\\"MERCH\\\\u21b4  DM DOGS. WE WILL RATE\\\", \\\"description\\\": \\\"Only Legit Source for Professional Dog Ratings STORE: @ShopWeRateDogs | IG, FB & SC: WeRateDogs | MOBILE APP: @GoodDogsGame Business: dogratingtwitter@gmail.com\\\", \\\"url\\\": \\\"https://t.co/N7sNNHAEXS\\\", \\\"entities\\\": {\\\"url\\\": {\\\"urls\\\": [{\\\"url\\\": \\\"https://t.co/N7sNNHAEXS\\\", \\\"expanded_url\\\": \\\"http://weratedogs.com\\\", \\\"display_url\\\": \\\"weratedogs.com\\\", \\\"indices\\\": [0, 23]}]}, \\\"description\\\": {\\\"urls\\\": []}}, \\\"protected\\\": false, \\\"followers_count\\\": 3768791, \\\"friends_count\\\": 107, \\\"listed_count\\\": 3169, \\\"created_at\\\": \\\"Sun Nov 15 21:41:29 +0000 2015\\\", \\\"favourites_count\\\": 120162, \\\"utc_offset\\\": null, \\\"time_zone\\\": null, \\\"geo_enabled\\\": true, \\\"verified\\\": true, \\\"statuses_count\\\": 5749, \\\"lang\\\": \\\"en\\\", \\\"contributors_enabled\\\": false, \\\"is_translator\\\": false, \\\"is_translation_enabled\\\": false, \\\"profile_background_color\\\": \\\"000000\\\", \\\"profile_background_image_url\\\": \\\"http://abs.twimg.com/images/themes/theme1/bg.png\\\", \\\"profile_background_image_url_https\\\": \\\"https://abs.twimg.com/images/themes/theme1/bg.png\\\", \\\"profile_background_tile\\\": false, \\\"profile_image_url\\\": \\\"http://pbs.twimg.com/profile_images/914581071265755136/2h5uFpwU_normal.jpg\\\", \\\"profile_image_url_https\\\": \\\"https://pbs.twimg.com/profile_images/914581071265755136/2h5uFpwU_normal.jpg\\\", \\\"profile_banner_url\\\": \\\"https://pbs.twimg.com/profile_banners/4196983835/1506888628\\\", \\\"profile_link_color\\\": \\\"F5ABB5\\\", \\\"profile_sidebar_border_color\\\": \\\"000000\\\", \\\"profile_sidebar_fill_color\\\": \\\"000000\\\", \\\"profile_text_color\\\": \\\"000000\\\", \\\"profile_use_background_image\\\": false, \\\"has_extended_profile\\\": true, \\\"default_profile\\\": false, \\\"default_profile_image\\\": false, \\\"following\\\": false, \\\"follow_request_sent\\\": false, \\\"notifications\\\": false, \\\"translator_type\\\": \\\"none\\\"}, \\\"geo\\\": null, \\\"coordinates\\\": null, \\\"place\\\": null, \\\"contributors\\\": null, \\\"is_quote_status\\\": false, \\\"retweet_count\\\": 8842, \\\"favorite_count\\\": 39492, \\\"favorited\\\": false, \\\"retweeted\\\": false, \\\"possibly_sensitive\\\": false, \\\"possibly_sensitive_appealable\\\": false, \\\"lang\\\": \\\"en\\\"}\\n\"\n"
     ]
    }
   ],
   "source": [
    "import json\n",
    "with open(\"tweet_json.txt\", 'r') as json_file:\n",
    "    data = json_file.readline()\n",
    "    print json.dumps(data)"
   ]
  },
  {
   "cell_type": "markdown",
   "metadata": {
    "collapsed": true
   },
   "source": [
    "## 评估数据"
   ]
  },
  {
   "cell_type": "code",
   "execution_count": null,
   "metadata": {
    "collapsed": true
   },
   "outputs": [],
   "source": []
  },
  {
   "cell_type": "markdown",
   "metadata": {
    "collapsed": true
   },
   "source": [
    "## 清洗数据"
   ]
  },
  {
   "cell_type": "code",
   "execution_count": null,
   "metadata": {
    "collapsed": true
   },
   "outputs": [],
   "source": [
    "# 对清洗过的数据进行储存、分析和可视化"
   ]
  },
  {
   "cell_type": "code",
   "execution_count": null,
   "metadata": {
    "collapsed": true
   },
   "outputs": [],
   "source": []
  }
 ],
 "metadata": {
  "anaconda-cloud": {},
  "kernelspec": {
   "display_name": "Python [Root]",
   "language": "python",
   "name": "Python [Root]"
  },
  "language_info": {
   "codemirror_mode": {
    "name": "ipython",
    "version": 2
   },
   "file_extension": ".py",
   "mimetype": "text/x-python",
   "name": "python",
   "nbconvert_exporter": "python",
   "pygments_lexer": "ipython2",
   "version": "2.7.12"
  }
 },
 "nbformat": 4,
 "nbformat_minor": 0
}
